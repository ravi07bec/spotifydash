{
 "cells": [
  {
   "cell_type": "code",
   "execution_count": null,
   "id": "removable-shift",
   "metadata": {},
   "outputs": [
    {
     "name": "stdout",
     "output_type": "stream",
     "text": [
      "Dash is running on http://0.0.0.0:8402/\n",
      "\n",
      " * Serving Flask app \"ML_Recommender\" (lazy loading)\n",
      " * Environment: production\n",
      "\u001b[31m   WARNING: This is a development server. Do not use it in a production deployment.\u001b[0m\n",
      "\u001b[2m   Use a production WSGI server instead.\u001b[0m\n",
      " * Debug mode: on\n",
      "[]\n",
      "['02MWAaffLxlfxAUY7c5dvx']\n",
      "[]\n",
      "[]\n",
      "['017PF4Q3l4DBUiWoXk4OWT']\n",
      "['017PF4Q3l4DBUiWoXk4OWT']\n",
      "[]\n",
      "[]\n",
      "['02MWAaffLxlfxAUY7c5dvx']\n",
      "['02MWAaffLxlfxAUY7c5dvx']\n",
      "[]\n",
      "[]\n",
      "['02MWAaffLxlfxAUY7c5dvx']\n",
      "['02MWAaffLxlfxAUY7c5dvx']\n",
      "[]\n",
      "[]\n",
      "['02kDW379Yfd5PzW5A6vuGt']\n",
      "['02kDW379Yfd5PzW5A6vuGt']\n",
      "[]\n",
      "[]\n",
      "['01BlGnXpLuC0BjgUxVYZFb', '004sbHg1qMzdrDXdxJpkj1', '01TuObJVd7owWchVRuQbQw', '01W9YsgZlN5aVuKWD7F4ZN', '01ger8hoR0K6zAStAad5Nt']\n",
      "['01BlGnXpLuC0BjgUxVYZFb', '004sbHg1qMzdrDXdxJpkj1', '01TuObJVd7owWchVRuQbQw', '01W9YsgZlN5aVuKWD7F4ZN', '01ger8hoR0K6zAStAad5Nt']\n",
      "['01BlGnXpLuC0BjgUxVYZFb', '004sbHg1qMzdrDXdxJpkj1', '01TuObJVd7owWchVRuQbQw', '01W9YsgZlN5aVuKWD7F4ZN', '01ger8hoR0K6zAStAad5Nt']\n",
      "['01BlGnXpLuC0BjgUxVYZFb', '004sbHg1qMzdrDXdxJpkj1', '01TuObJVd7owWchVRuQbQw', '01W9YsgZlN5aVuKWD7F4ZN', '01ger8hoR0K6zAStAad5Nt']\n",
      "['01BlGnXpLuC0BjgUxVYZFb', '004sbHg1qMzdrDXdxJpkj1', '01TuObJVd7owWchVRuQbQw', '01W9YsgZlN5aVuKWD7F4ZN', '01ger8hoR0K6zAStAad5Nt']\n",
      "['01BlGnXpLuC0BjgUxVYZFb', '004sbHg1qMzdrDXdxJpkj1', '01TuObJVd7owWchVRuQbQw', '01W9YsgZlN5aVuKWD7F4ZN', '01ger8hoR0K6zAStAad5Nt']\n",
      "['01BlGnXpLuC0BjgUxVYZFb', '004sbHg1qMzdrDXdxJpkj1', '01TuObJVd7owWchVRuQbQw', '01W9YsgZlN5aVuKWD7F4ZN', '01ger8hoR0K6zAStAad5Nt']\n",
      "[]\n",
      "[]\n",
      "[]\n",
      "[]\n",
      "[]\n",
      "[]\n",
      "['01xhMrdCefADl7HSttJaf7']\n",
      "['01xhMrdCefADl7HSttJaf7']\n",
      "['01QdEx6kFr78ZejhQtWR5m']\n",
      "['01QdEx6kFr78ZejhQtWR5m']\n",
      "['01QdEx6kFr78ZejhQtWR5m']\n"
     ]
    }
   ],
   "source": [
    "!python ML_Recommender.py"
   ]
  },
  {
   "cell_type": "code",
   "execution_count": null,
   "id": "assumed-treasure",
   "metadata": {},
   "outputs": [],
   "source": []
  }
 ],
 "metadata": {
  "kernelspec": {
   "display_name": "Python 3",
   "language": "python",
   "name": "python3"
  },
  "language_info": {
   "codemirror_mode": {
    "name": "ipython",
    "version": 3
   },
   "file_extension": ".py",
   "mimetype": "text/x-python",
   "name": "python",
   "nbconvert_exporter": "python",
   "pygments_lexer": "ipython3",
   "version": "3.7.10"
  }
 },
 "nbformat": 4,
 "nbformat_minor": 5
}
